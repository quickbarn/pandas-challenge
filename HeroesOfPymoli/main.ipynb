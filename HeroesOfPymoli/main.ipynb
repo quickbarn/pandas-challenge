{
 "cells": [
  {
   "cell_type": "code",
   "execution_count": 1,
   "metadata": {},
   "outputs": [],
   "source": [
    "#Dependencies\n",
    "import pandas as pd\n",
    "import math"
   ]
  },
  {
   "cell_type": "code",
   "execution_count": 2,
   "metadata": {},
   "outputs": [],
   "source": [
    "#filename and location of csv\n",
    "csvfile = ('Resources/purchase_data.csv')"
   ]
  },
  {
   "cell_type": "code",
   "execution_count": 3,
   "metadata": {},
   "outputs": [
    {
     "data": {
      "text/html": [
       "<div>\n",
       "<style scoped>\n",
       "    .dataframe tbody tr th:only-of-type {\n",
       "        vertical-align: middle;\n",
       "    }\n",
       "\n",
       "    .dataframe tbody tr th {\n",
       "        vertical-align: top;\n",
       "    }\n",
       "\n",
       "    .dataframe thead th {\n",
       "        text-align: right;\n",
       "    }\n",
       "</style>\n",
       "<table border=\"1\" class=\"dataframe\">\n",
       "  <thead>\n",
       "    <tr style=\"text-align: right;\">\n",
       "      <th></th>\n",
       "      <th>Purchase ID</th>\n",
       "      <th>SN</th>\n",
       "      <th>Age</th>\n",
       "      <th>Gender</th>\n",
       "      <th>Item ID</th>\n",
       "      <th>Item Name</th>\n",
       "      <th>Price</th>\n",
       "    </tr>\n",
       "  </thead>\n",
       "  <tbody>\n",
       "    <tr>\n",
       "      <th>0</th>\n",
       "      <td>0</td>\n",
       "      <td>Lisim78</td>\n",
       "      <td>20</td>\n",
       "      <td>Male</td>\n",
       "      <td>108</td>\n",
       "      <td>Extraction, Quickblade Of Trembling Hands</td>\n",
       "      <td>3.53</td>\n",
       "    </tr>\n",
       "    <tr>\n",
       "      <th>1</th>\n",
       "      <td>1</td>\n",
       "      <td>Lisovynya38</td>\n",
       "      <td>40</td>\n",
       "      <td>Male</td>\n",
       "      <td>143</td>\n",
       "      <td>Frenzied Scimitar</td>\n",
       "      <td>1.56</td>\n",
       "    </tr>\n",
       "    <tr>\n",
       "      <th>2</th>\n",
       "      <td>2</td>\n",
       "      <td>Ithergue48</td>\n",
       "      <td>24</td>\n",
       "      <td>Male</td>\n",
       "      <td>92</td>\n",
       "      <td>Final Critic</td>\n",
       "      <td>4.88</td>\n",
       "    </tr>\n",
       "    <tr>\n",
       "      <th>3</th>\n",
       "      <td>3</td>\n",
       "      <td>Chamassasya86</td>\n",
       "      <td>24</td>\n",
       "      <td>Male</td>\n",
       "      <td>100</td>\n",
       "      <td>Blindscythe</td>\n",
       "      <td>3.27</td>\n",
       "    </tr>\n",
       "    <tr>\n",
       "      <th>4</th>\n",
       "      <td>4</td>\n",
       "      <td>Iskosia90</td>\n",
       "      <td>23</td>\n",
       "      <td>Male</td>\n",
       "      <td>131</td>\n",
       "      <td>Fury</td>\n",
       "      <td>1.44</td>\n",
       "    </tr>\n",
       "  </tbody>\n",
       "</table>\n",
       "</div>"
      ],
      "text/plain": [
       "   Purchase ID             SN  Age Gender  Item ID  \\\n",
       "0            0        Lisim78   20   Male      108   \n",
       "1            1    Lisovynya38   40   Male      143   \n",
       "2            2     Ithergue48   24   Male       92   \n",
       "3            3  Chamassasya86   24   Male      100   \n",
       "4            4      Iskosia90   23   Male      131   \n",
       "\n",
       "                                   Item Name  Price  \n",
       "0  Extraction, Quickblade Of Trembling Hands   3.53  \n",
       "1                          Frenzied Scimitar   1.56  \n",
       "2                               Final Critic   4.88  \n",
       "3                                Blindscythe   3.27  \n",
       "4                                       Fury   1.44  "
      ]
     },
     "execution_count": 3,
     "metadata": {},
     "output_type": "execute_result"
    }
   ],
   "source": [
    "#csv to df\n",
    "df = pd.read_csv(csvfile)\n",
    "#checkpoint\n",
    "df.head()"
   ]
  },
  {
   "cell_type": "code",
   "execution_count": 4,
   "metadata": {},
   "outputs": [
    {
     "name": "stdout",
     "output_type": "stream",
     "text": [
      "There are a total of 576 unique screen names/players who participate in this game.\n",
      "\n",
      "It is important to highlight that current marketing strategies have attracted (484) male players, that is 84% of the selected population that purchase items.\n",
      "\n",
      "It is important to note that although the majority of players purchase are male, and above the age of 20. This is not an accurate view of our entire player population as not all players will make purchases.\n"
     ]
    }
   ],
   "source": [
    "print(\"There are a total of 576 unique screen names/players who participate in this game.\")\n",
    "print(\"\\n\"\"It is important to highlight that current marketing strategies have attracted (484) male players, that is 84% of the selected population that purchase items.\")\n",
    "print(\"\\n\"\"It is important to note that although the majority of players purchase are male, and above the age of 20. This is not an accurate view of our entire player population as not all players will make purchases.\")\n"
   ]
  },
  {
   "cell_type": "code",
   "execution_count": 5,
   "metadata": {},
   "outputs": [],
   "source": [
    "#number of unique users\n",
    "sn_count = df[\"SN\"].nunique()\n",
    "# sn_count"
   ]
  },
  {
   "cell_type": "code",
   "execution_count": 6,
   "metadata": {
    "tags": []
   },
   "outputs": [
    {
     "name": "stdout",
     "output_type": "stream",
     "text": [
      "Player Count: 576\n",
      "\n"
     ]
    }
   ],
   "source": [
    "#Player Count\n",
    "print(f\"Player Count: {sn_count}\"\"\\n\")"
   ]
  },
  {
   "cell_type": "code",
   "execution_count": 7,
   "metadata": {},
   "outputs": [],
   "source": [
    "#number of unique items\n",
    "item_count = df[\"Item ID\"].nunique()\n",
    "item_count\n",
    "#average price\n",
    "avg_price = df[\"Price\"].mean()\n",
    "avg_price\n",
    "#total transactions\n",
    "transactions = len(df['Purchase ID'])\n",
    "transactions\n",
    "#revenue\n",
    "total_rev = df[\"Price\"].sum()\n",
    "total_rev\n",
    "#list types of genders\n",
    "gender_types = df[\"Gender\"].unique()\n",
    "# gender_types"
   ]
  },
  {
   "cell_type": "code",
   "execution_count": 8,
   "metadata": {
    "tags": []
   },
   "outputs": [
    {
     "name": "stdout",
     "output_type": "stream",
     "text": [
      "Purchasing Analysis (Total)\n",
      "\n",
      "Number of Unique Items: 179\n",
      "\n",
      "Average Purchase Price: $3.05\n",
      "\n",
      "Total Number of Purchases: 780\n",
      "\n",
      "Total Revenue: $2379.77\n",
      "\n"
     ]
    }
   ],
   "source": [
    "#Purchaseing Analysis (Total)\n",
    "print(\"Purchasing Analysis (Total)\" \"\\n\")\n",
    "print(f\"Number of Unique Items: {item_count}\"\"\\n\")\n",
    "print(f\"Average Purchase Price: ${avg_price:.2f}\"\"\\n\")\n",
    "print(f\"Total Number of Purchases: {transactions}\"\"\\n\")\n",
    "print(f\"Total Revenue: ${total_rev}\"\"\\n\")\n"
   ]
  },
  {
   "cell_type": "code",
   "execution_count": 9,
   "metadata": {},
   "outputs": [],
   "source": [
    "#male players dataframe\n",
    "male_df = df.loc[df[\"Gender\"]==\"Male\"]\n",
    "male_df\n",
    "#unique male player count\n",
    "male_count = male_df[\"SN\"].nunique()\n",
    "male_count\n",
    "#percentage\n",
    "male = male_count/sn_count\n",
    "male\n",
    "#female players dataframe\n",
    "female_df = df.loc[df[\"Gender\"]==\"Female\"]\n",
    "female_df\n",
    "#unique female player count\n",
    "female_count = female_df[\"SN\"].nunique()\n",
    "female_count\n",
    "#percentage\n",
    "female = female_count/sn_count\n",
    "female\n",
    "#other players dataframe\n",
    "other_df = df.loc[df[\"Gender\"]==\"Other / Non-Disclosed\"]\n",
    "other_df\n",
    "#unique other player count\n",
    "other_count = other_df[\"SN\"].nunique()\n",
    "other_count\n",
    "#percentage\n",
    "other = other_count/sn_count\n",
    "# other"
   ]
  },
  {
   "cell_type": "code",
   "execution_count": 10,
   "metadata": {
    "tags": []
   },
   "outputs": [
    {
     "name": "stdout",
     "output_type": "stream",
     "text": [
      "Gender Demographics\n",
      "\n",
      "Male Players: 84.03% (484)\n",
      "\n",
      "Female Players: 14.06% (81)\n",
      "\n",
      "Other / Non-Disclosed Players: 1.91% (11)\n",
      "\n"
     ]
    }
   ],
   "source": [
    "#Gender Demographics\n",
    "print(\"Gender Demographics\"\"\\n\")\n",
    "print(f\"Male Players: {male:.2%} ({male_count})\"\"\\n\")\n",
    "print(f\"Female Players: {female:.2%} ({female_count})\"\"\\n\")\n",
    "print(f\"Other / Non-Disclosed Players: {other:.2%} ({other_count})\"\"\\n\")"
   ]
  },
  {
   "cell_type": "code",
   "execution_count": 11,
   "metadata": {},
   "outputs": [],
   "source": [
    "#gender purchase analysis\n",
    "male_purchase=len(male_df[\"Purchase ID\"])\n",
    "male_avg_price = male_df[\"Price\"].mean()\n",
    "male_total_rev = male_df[\"Price\"].sum()\n",
    "male_grouped_df = male_df.groupby(['SN'])[\"Price\"].sum()\n",
    "male_avg_per = male_grouped_df[2].mean()\n",
    "\n",
    "female_purchase=len(female_df[\"Purchase ID\"])\n",
    "female_avg_price = female_df[\"Price\"].mean()\n",
    "female_total_rev = female_df[\"Price\"].sum()\n",
    "female_grouped_df = female_df.groupby(['SN'])[\"Price\"].sum()\n",
    "female_avg_per = female_grouped_df[2].mean()\n",
    "\n",
    "other_purchase=len(other_df[\"Purchase ID\"])\n",
    "other_avg_price = other_df[\"Price\"].mean()\n",
    "other_total_rev = other_df[\"Price\"].sum()\n",
    "other_grouped_df = other_df.groupby(['SN'])[\"Price\"].sum()\n",
    "other_avg_per = other_grouped_df[2].mean()\n",
    "\n"
   ]
  },
  {
   "cell_type": "code",
   "execution_count": 12,
   "metadata": {
    "scrolled": true
   },
   "outputs": [
    {
     "name": "stdout",
     "output_type": "stream",
     "text": [
      "Purchasing Analysis (Gender)\n",
      "\n",
      "Purchase Count: (652) Males; (113) Females; (15) Other / Non-Disclosed\n",
      "\n",
      "Average Purchase Price: $(3.02) Males; $(3.20) Females; $(3.35) Other / Non-Disclosed\n",
      "\n",
      "Total Purchase Value: $(1967.64) Males; $(361.94) Females; $(50.19) Other / Non-Disclosed\n",
      "\n",
      "Average Purchase Per Unique Player: $(4.32) Males; $(3.54) Females; $(3.94) Other / Non-Disclosed\n",
      "\n"
     ]
    }
   ],
   "source": [
    "#Purchasing analysis (Gender)\n",
    "print(\"Purchasing Analysis (Gender)\"\"\\n\")\n",
    "\n",
    "print(f\"Purchase Count: ({male_purchase}) Males; ({female_purchase}) Females; ({other_purchase}) Other / Non-Disclosed\"\"\\n\")\n",
    "print(f\"Average Purchase Price: $({male_avg_price:.2f}) Males; $({female_avg_price:.2f}) Females; $({other_avg_price:.2f}) Other / Non-Disclosed\"\"\\n\")\n",
    "print(f\"Total Purchase Value: $({male_total_rev}) Males; $({female_total_rev}) Females; $({other_total_rev}) Other / Non-Disclosed\"\"\\n\")\n",
    "print(f\"Average Purchase Per Unique Player: $({male_avg_per:.2f}) Males; $({female_avg_per:.2f}) Females; $({other_avg_per:.2f}) Other / Non-Disclosed\"\"\\n\")"
   ]
  },
  {
   "cell_type": "code",
   "execution_count": 13,
   "metadata": {},
   "outputs": [],
   "source": [
    "#group by for age demographics\n",
    "#Early, PreTeen, Teen, Adult\n",
    "bins= [0,10,15,20, 50]\n",
    "age_labels = [\"Early\", \"Pre-Teen\", \"Teen\", \"Adult\"]\n",
    "\n",
    "#add a field\n",
    "age_df = pd.cut(df[\"Age\"], bins, labels=age_labels)\n",
    "age_df\n",
    "\n",
    "#create new field in original df\n",
    "df[\"Age Label\"] = age_df\n",
    "df.head()\n",
    "\n",
    "#df for each bin\n",
    "early_df = df.loc[df[\"Age Label\"]==\"Early\"]\n",
    "pre_df = df.loc[df[\"Age Label\"]==\"Pre-Teen\"]\n",
    "teen_df = df.loc[df[\"Age Label\"]==\"Teen\"]\n",
    "adult_df = df.loc[df[\"Age Label\"]==\"Adult\"]\n"
   ]
  },
  {
   "cell_type": "code",
   "execution_count": 14,
   "metadata": {},
   "outputs": [],
   "source": [
    "#purchase count\n",
    "early_purch = len(early_df[\"Purchase ID\"])\n",
    "pre_purch = len(pre_df[\"Purchase ID\"])\n",
    "teen_purch = len(teen_df[\"Purchase ID\"])\n",
    "adult_purch = len(adult_df[\"Purchase ID\"])\n",
    "\n",
    "#avg purchase price\n",
    "early_avg = early_df[\"Price\"].mean()\n",
    "pre_avg = pre_df[\"Price\"].mean()\n",
    "teen_avg = teen_df[\"Price\"].mean()\n",
    "adult_avg = adult_df[\"Price\"].mean()\n",
    "\n",
    "#total purchase value\n",
    "early_total = early_df[\"Price\"].sum()\n",
    "pre_total = pre_df[\"Price\"].sum()\n",
    "teen_total = teen_df[\"Price\"].sum()\n",
    "adult_total = adult_df[\"Price\"].sum()\n",
    "\n",
    "#average per person \n",
    "early_per = early_df.groupby([\"SN\"])[\"Price\"].sum()\n",
    "early_ap = early_per[2].mean()\n",
    "pre_per = pre_df.groupby([\"SN\"])[\"Price\"].sum()\n",
    "pre_ap = pre_per[2].mean()\n",
    "teen_per = teen_df.groupby([\"SN\"])[\"Price\"].sum()\n",
    "teen_ap = teen_per[2].mean()\n",
    "adult_per = adult_df.groupby([\"SN\"])[\"Price\"].sum()\n",
    "adult_ap = adult_per[2].mean()\n"
   ]
  },
  {
   "cell_type": "code",
   "execution_count": 15,
   "metadata": {},
   "outputs": [
    {
     "name": "stdout",
     "output_type": "stream",
     "text": [
      "Age Demographics\n",
      "\n",
      "Purchase Count: (32) Early; (54) Pre-Teens; (200) Teen; (494) Adult\n",
      "\n",
      "Average Purchase Price: $(3.40) Early; $(2.90) Pre-Teen; $(3.11) Teen; $(3.02) Adult\n",
      "\n",
      "Total Purchase Value: $(108.96) Early; $(156.60) Pre-Teen; $(621.56) Teen; $(1492.65) Adult\n",
      "\n",
      "Average Purchase Per Unique Player: $(5.70) Early; $(2.52) Pre-Teen; $(8.98) Teen, $(1.79) Adult\n",
      "\n"
     ]
    }
   ],
   "source": [
    "#Age Demographics\n",
    "print(\"Age Demographics\"\"\\n\")\n",
    "print(f\"Purchase Count: ({early_purch}) Early; ({pre_purch}) Pre-Teens; ({teen_purch}) Teen; ({adult_purch}) Adult\"\"\\n\")\n",
    "print(f\"Average Purchase Price: $({early_avg:.2f}) Early; $({pre_avg:.2f}) Pre-Teen; $({teen_avg:.2f}) Teen; $({adult_avg:.2f}) Adult\"\"\\n\")\n",
    "print(f\"Total Purchase Value: $({early_total:.2f}) Early; $({pre_total:.2f}) Pre-Teen; $({teen_total}) Teen; $({adult_total}) Adult\"\"\\n\")\n",
    "print(f\"Average Purchase Per Unique Player: $({early_ap:.2f}) Early; $({pre_ap:.2f}) Pre-Teen; $({teen_ap:.2f}) Teen, $({adult_ap:.2f}) Adult\"\"\\n\")"
   ]
  },
  {
   "cell_type": "code",
   "execution_count": 16,
   "metadata": {},
   "outputs": [],
   "source": [
    "#top 5 spenders IN A TABLE\n",
    "top_df = df.groupby([\"SN\"])[\"Price\"].sum()\n",
    "top_list = top_df.nlargest(5)\n",
    "top_list\n",
    "top_count = df.groupby([\"SN\"])[\"Purchase ID\"].count()\n",
    "top_count\n",
    "top_avg = df.groupby([\"SN\"])[\"Price\"].mean()\n",
    "top_merge = pd.merge(top_list, top_count, on=\"SN\")\n",
    "top_merge\n",
    "top_final = pd.merge(top_merge, top_avg, on=\"SN\")\n",
    "top_rename = top_final.rename(columns ={\"Price_x\": \"Total Purchase Value\", \"Purchase ID\": \"Purchase Count\", \"Price_y\":\"Average Purchase Price\"})\n",
    "top_rename = top_rename[[ \"Purchase Count\", \"Average Purchase Price\", \"Total Purchase Value\"]]\n",
    "# top_rename"
   ]
  },
  {
   "cell_type": "code",
   "execution_count": 17,
   "metadata": {},
   "outputs": [
    {
     "name": "stdout",
     "output_type": "stream",
     "text": [
      "Top Spenders\n",
      "             Purchase Count  Average Purchase Price  Total Purchase Value\n",
      "SN                                                                       \n",
      "Lisosia93                 5                    3.79                 18.96\n",
      "Idastidru52               4                    3.86                 15.45\n",
      "Chamjask73                3                    4.61                 13.83\n",
      "Iral74                    4                    3.40                 13.62\n",
      "Iskadarya95               3                    4.37                 13.10\n"
     ]
    }
   ],
   "source": [
    "#Top Spenders print\n",
    "print (\"Top Spenders\")\n",
    "print (top_rename.round({\"Average Purchase Price\":2}))"
   ]
  },
  {
   "cell_type": "code",
   "execution_count": 18,
   "metadata": {},
   "outputs": [],
   "source": [
    "#Popular items\n",
    "pop_df = df.groupby([\"Item Name\"])[\"Price\"].sum()\n",
    "pop_count = df.groupby([\"Item Name\"])[\"Purchase ID\"].count()\n",
    "pop_count = pop_count.nlargest()\n",
    "pop_count\n",
    "pop_avg = df.groupby([\"Item Name\"])[\"Price\"].mean()\n",
    "pop_merge = pd.merge(pop_count, pop_df, on=\"Item Name\")\n",
    "pop_final = pd.merge(pop_merge, pop_avg, on=\"Item Name\")\n",
    "pop_rename = pop_final.rename(columns ={\"Price_x\": \"Total Purchase Value\", \"Purchase ID\": \"Purchase Count\", \"Price_y\":\"Average Purchase Price\"})\n",
    "pop_rename = pop_rename[[ \"Purchase Count\", \"Average Purchase Price\", \"Total Purchase Value\"]]\n",
    "# pop_rename"
   ]
  },
  {
   "cell_type": "code",
   "execution_count": 19,
   "metadata": {},
   "outputs": [
    {
     "name": "stdout",
     "output_type": "stream",
     "text": [
      "Most Popular Items\n",
      "                                              Purchase Count  \\\n",
      "Item Name                                                      \n",
      "Final Critic                                              13   \n",
      "Oathbreaker, Last Hope of the Breaking Storm              12   \n",
      "Extraction, Quickblade Of Trembling Hands                  9   \n",
      "Fiery Glass Crusader                                       9   \n",
      "Nirvana                                                    9   \n",
      "\n",
      "                                              Average Purchase Price  \\\n",
      "Item Name                                                              \n",
      "Final Critic                                                    4.61   \n",
      "Oathbreaker, Last Hope of the Breaking Storm                    4.23   \n",
      "Extraction, Quickblade Of Trembling Hands                       3.53   \n",
      "Fiery Glass Crusader                                            4.58   \n",
      "Nirvana                                                         4.90   \n",
      "\n",
      "                                              Total Purchase Value  \n",
      "Item Name                                                           \n",
      "Final Critic                                                 59.99  \n",
      "Oathbreaker, Last Hope of the Breaking Storm                 50.76  \n",
      "Extraction, Quickblade Of Trembling Hands                    31.77  \n",
      "Fiery Glass Crusader                                         41.22  \n",
      "Nirvana                                                      44.10  \n"
     ]
    }
   ],
   "source": [
    "print (\"Most Popular Items\")\n",
    "print (pop_rename.round({\"Average Purchase Price\":2}))"
   ]
  },
  {
   "cell_type": "code",
   "execution_count": 20,
   "metadata": {},
   "outputs": [],
   "source": [
    "#profitable items\n",
    "items_df = df.groupby([\"Item Name\"])[\"Price\"].sum()\n",
    "items_df = items_df.nlargest(5)\n",
    "items_count = df.groupby([\"Item Name\"])[\"Purchase ID\"].count()\n",
    "items_avg = df.groupby([\"Item Name\"])[\"Price\"].mean()\n",
    "items_avg\n",
    "items_merge = pd.merge(items_df, items_count, on=\"Item Name\")\n",
    "items_final = pd.merge(items_merge, items_avg, on=\"Item Name\")\n",
    "items_rename = items_final.rename(columns ={\"Price_x\": \"Total Purchase Value\", \"Purchase ID\": \"Purchase Count\", \"Price_y\":\"Average Purchase Price\"})\n",
    "items_rename = items_rename[[ \"Purchase Count\", \"Average Purchase Price\", \"Total Purchase Value\"]]\n",
    "# items_rename"
   ]
  },
  {
   "cell_type": "code",
   "execution_count": 21,
   "metadata": {},
   "outputs": [
    {
     "name": "stdout",
     "output_type": "stream",
     "text": [
      "Most Profitable Items\n",
      "                                              Purchase Count  \\\n",
      "Item Name                                                      \n",
      "Final Critic                                              13   \n",
      "Oathbreaker, Last Hope of the Breaking Storm              12   \n",
      "Nirvana                                                    9   \n",
      "Fiery Glass Crusader                                       9   \n",
      "Singed Scalpel                                             8   \n",
      "\n",
      "                                              Average Purchase Price  \\\n",
      "Item Name                                                              \n",
      "Final Critic                                                    4.61   \n",
      "Oathbreaker, Last Hope of the Breaking Storm                    4.23   \n",
      "Nirvana                                                         4.90   \n",
      "Fiery Glass Crusader                                            4.58   \n",
      "Singed Scalpel                                                  4.35   \n",
      "\n",
      "                                              Total Purchase Value  \n",
      "Item Name                                                           \n",
      "Final Critic                                                 59.99  \n",
      "Oathbreaker, Last Hope of the Breaking Storm                 50.76  \n",
      "Nirvana                                                      44.10  \n",
      "Fiery Glass Crusader                                         41.22  \n",
      "Singed Scalpel                                               34.80  \n"
     ]
    }
   ],
   "source": [
    "print (\"Most Profitable Items\")\n",
    "print (items_rename.round({\"Average Purchase Price\":2}))"
   ]
  }
 ],
 "metadata": {
  "kernelspec": {
   "display_name": "Python 3",
   "language": "python",
   "name": "python3"
  },
  "language_info": {
   "codemirror_mode": {
    "name": "ipython",
    "version": 3
   },
   "file_extension": ".py",
   "mimetype": "text/x-python",
   "name": "python",
   "nbconvert_exporter": "python",
   "pygments_lexer": "ipython3",
   "version": "3.7.6"
  },
  "widgets": {
   "application/vnd.jupyter.widget-state+json": {
    "state": {},
    "version_major": 2,
    "version_minor": 0
   }
  }
 },
 "nbformat": 4,
 "nbformat_minor": 4
}
