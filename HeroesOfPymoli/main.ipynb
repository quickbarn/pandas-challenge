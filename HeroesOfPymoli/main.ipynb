{
 "cells": [
  {
   "cell_type": "code",
   "execution_count": 37,
   "metadata": {},
   "outputs": [],
   "source": [
    "#Dependencies\n",
    "import pandas as pd\n",
    "import math"
   ]
  },
  {
   "cell_type": "code",
   "execution_count": 38,
   "metadata": {},
   "outputs": [],
   "source": [
    "#filename and location of csv\n",
    "csvfile = ('Resources/purchase_data.csv')"
   ]
  },
  {
   "cell_type": "code",
   "execution_count": 39,
   "metadata": {},
   "outputs": [],
   "source": [
    "#csv to df\n",
    "df = pd.read_csv(csvfile)"
   ]
  },
  {
   "cell_type": "code",
   "execution_count": 40,
   "metadata": {},
   "outputs": [
    {
     "data": {
      "text/html": [
       "<div>\n",
       "<style scoped>\n",
       "    .dataframe tbody tr th:only-of-type {\n",
       "        vertical-align: middle;\n",
       "    }\n",
       "\n",
       "    .dataframe tbody tr th {\n",
       "        vertical-align: top;\n",
       "    }\n",
       "\n",
       "    .dataframe thead th {\n",
       "        text-align: right;\n",
       "    }\n",
       "</style>\n",
       "<table border=\"1\" class=\"dataframe\">\n",
       "  <thead>\n",
       "    <tr style=\"text-align: right;\">\n",
       "      <th></th>\n",
       "      <th>Purchase ID</th>\n",
       "      <th>SN</th>\n",
       "      <th>Age</th>\n",
       "      <th>Gender</th>\n",
       "      <th>Item ID</th>\n",
       "      <th>Item Name</th>\n",
       "      <th>Price</th>\n",
       "    </tr>\n",
       "  </thead>\n",
       "  <tbody>\n",
       "    <tr>\n",
       "      <th>0</th>\n",
       "      <td>0</td>\n",
       "      <td>Lisim78</td>\n",
       "      <td>20</td>\n",
       "      <td>Male</td>\n",
       "      <td>108</td>\n",
       "      <td>Extraction, Quickblade Of Trembling Hands</td>\n",
       "      <td>3.53</td>\n",
       "    </tr>\n",
       "    <tr>\n",
       "      <th>1</th>\n",
       "      <td>1</td>\n",
       "      <td>Lisovynya38</td>\n",
       "      <td>40</td>\n",
       "      <td>Male</td>\n",
       "      <td>143</td>\n",
       "      <td>Frenzied Scimitar</td>\n",
       "      <td>1.56</td>\n",
       "    </tr>\n",
       "    <tr>\n",
       "      <th>2</th>\n",
       "      <td>2</td>\n",
       "      <td>Ithergue48</td>\n",
       "      <td>24</td>\n",
       "      <td>Male</td>\n",
       "      <td>92</td>\n",
       "      <td>Final Critic</td>\n",
       "      <td>4.88</td>\n",
       "    </tr>\n",
       "    <tr>\n",
       "      <th>3</th>\n",
       "      <td>3</td>\n",
       "      <td>Chamassasya86</td>\n",
       "      <td>24</td>\n",
       "      <td>Male</td>\n",
       "      <td>100</td>\n",
       "      <td>Blindscythe</td>\n",
       "      <td>3.27</td>\n",
       "    </tr>\n",
       "    <tr>\n",
       "      <th>4</th>\n",
       "      <td>4</td>\n",
       "      <td>Iskosia90</td>\n",
       "      <td>23</td>\n",
       "      <td>Male</td>\n",
       "      <td>131</td>\n",
       "      <td>Fury</td>\n",
       "      <td>1.44</td>\n",
       "    </tr>\n",
       "  </tbody>\n",
       "</table>\n",
       "</div>"
      ],
      "text/plain": [
       "   Purchase ID             SN  Age Gender  Item ID  \\\n",
       "0            0        Lisim78   20   Male      108   \n",
       "1            1    Lisovynya38   40   Male      143   \n",
       "2            2     Ithergue48   24   Male       92   \n",
       "3            3  Chamassasya86   24   Male      100   \n",
       "4            4      Iskosia90   23   Male      131   \n",
       "\n",
       "                                   Item Name  Price  \n",
       "0  Extraction, Quickblade Of Trembling Hands   3.53  \n",
       "1                          Frenzied Scimitar   1.56  \n",
       "2                               Final Critic   4.88  \n",
       "3                                Blindscythe   3.27  \n",
       "4                                       Fury   1.44  "
      ]
     },
     "execution_count": 40,
     "metadata": {},
     "output_type": "execute_result"
    }
   ],
   "source": [
    "#checkpoint\n",
    "df.head()"
   ]
  },
  {
   "cell_type": "code",
   "execution_count": 41,
   "metadata": {},
   "outputs": [
    {
     "data": {
      "text/plain": [
       "576"
      ]
     },
     "execution_count": 41,
     "metadata": {},
     "output_type": "execute_result"
    }
   ],
   "source": [
    "#number of unique users\n",
    "sn_count = df[\"SN\"].nunique()\n",
    "sn_count"
   ]
  },
  {
   "cell_type": "code",
   "execution_count": 42,
   "metadata": {},
   "outputs": [
    {
     "data": {
      "text/plain": [
       "179"
      ]
     },
     "execution_count": 42,
     "metadata": {},
     "output_type": "execute_result"
    }
   ],
   "source": [
    "#number of unique items\n",
    "item_count = df[\"Item ID\"].nunique()\n",
    "item_count"
   ]
  },
  {
   "cell_type": "code",
   "execution_count": 43,
   "metadata": {},
   "outputs": [
    {
     "data": {
      "text/plain": [
       "3.050987179487176"
      ]
     },
     "execution_count": 43,
     "metadata": {},
     "output_type": "execute_result"
    }
   ],
   "source": [
    "#average price\n",
    "avg_price = df[\"Price\"].mean()\n",
    "avg_price"
   ]
  },
  {
   "cell_type": "code",
   "execution_count": 44,
   "metadata": {},
   "outputs": [
    {
     "data": {
      "text/plain": [
       "780"
      ]
     },
     "execution_count": 44,
     "metadata": {},
     "output_type": "execute_result"
    }
   ],
   "source": [
    "#total transactions\n",
    "transactions = len(df['Purchase ID'])\n",
    "transactions"
   ]
  },
  {
   "cell_type": "code",
   "execution_count": 45,
   "metadata": {},
   "outputs": [
    {
     "data": {
      "text/plain": [
       "2379.77"
      ]
     },
     "execution_count": 45,
     "metadata": {},
     "output_type": "execute_result"
    }
   ],
   "source": [
    "#revenue\n",
    "total_rev = df[\"Price\"].sum()\n",
    "total_rev"
   ]
  },
  {
   "cell_type": "code",
   "execution_count": 46,
   "metadata": {},
   "outputs": [
    {
     "data": {
      "text/plain": [
       "array(['Male', 'Other / Non-Disclosed', 'Female'], dtype=object)"
      ]
     },
     "execution_count": 46,
     "metadata": {},
     "output_type": "execute_result"
    }
   ],
   "source": [
    "#list types of genders\n",
    "gender_types = df[\"Gender\"].unique()\n",
    "gender_types"
   ]
  },
  {
   "cell_type": "code",
   "execution_count": 47,
   "metadata": {},
   "outputs": [
    {
     "data": {
      "text/plain": [
       "0.8402777777777778"
      ]
     },
     "execution_count": 47,
     "metadata": {},
     "output_type": "execute_result"
    }
   ],
   "source": [
    "#male players dataframe\n",
    "male_df = df.loc[df[\"Gender\"]==\"Male\"]\n",
    "male_df\n",
    "#unique male player count\n",
    "male_count = male_df[\"SN\"].nunique()\n",
    "male_count\n",
    "#percentage\n",
    "male = male_count/sn_count\n",
    "male"
   ]
  },
  {
   "cell_type": "code",
   "execution_count": 48,
   "metadata": {},
   "outputs": [
    {
     "data": {
      "text/plain": [
       "0.140625"
      ]
     },
     "execution_count": 48,
     "metadata": {},
     "output_type": "execute_result"
    }
   ],
   "source": [
    "#female players dataframe\n",
    "female_df = df.loc[df[\"Gender\"]==\"Female\"]\n",
    "female_df\n",
    "#unique female player count\n",
    "female_count = female_df[\"SN\"].nunique()\n",
    "female_count\n",
    "#percentage\n",
    "female = female_count/sn_count\n",
    "female"
   ]
  },
  {
   "cell_type": "code",
   "execution_count": 49,
   "metadata": {},
   "outputs": [
    {
     "data": {
      "text/plain": [
       "0.019097222222222224"
      ]
     },
     "execution_count": 49,
     "metadata": {},
     "output_type": "execute_result"
    }
   ],
   "source": [
    "#other players dataframe\n",
    "other_df = df.loc[df[\"Gender\"]==\"Other / Non-Disclosed\"]\n",
    "other_df\n",
    "#unique other player count\n",
    "other_count = other_df[\"SN\"].nunique()\n",
    "other_count\n",
    "#percentage\n",
    "other = other_count/sn_count\n",
    "other"
   ]
  },
  {
   "cell_type": "code",
   "execution_count": 55,
   "metadata": {},
   "outputs": [],
   "source": [
    "#gender purchase analysis\n",
    "male_purchase=len(male_df[\"Purchase ID\"])\n",
    "male_avg_price = male_df[\"Price\"].mean()\n",
    "male_total_rev = male_df[\"Price\"].sum()\n",
    "male_grouped_df = male_df.groupby(['SN'])[\"Price\"].sum()\n",
    "male_avg_per = male_grouped_df[2].mean()\n",
    "\n",
    "female_purchase=len(female_df[\"Purchase ID\"])\n",
    "female_avg_price = female_df[\"Price\"].mean()\n",
    "female_total_rev = female_df[\"Price\"].sum()\n",
    "female_grouped_df = female_df.groupby(['SN'])[\"Price\"].sum()\n",
    "female_avg_per = female_grouped_df[2].mean()\n",
    "\n",
    "other_purchase=len(other_df[\"Purchase ID\"])\n",
    "other_avg_price = other_df[\"Price\"].mean()\n",
    "other_total_rev = other_df[\"Price\"].sum()\n",
    "other_grouped_df = other_df.groupby(['SN'])[\"Price\"].sum()\n",
    "other_avg_per = other_grouped_df[2].mean()\n",
    "\n"
   ]
  },
  {
   "cell_type": "code",
   "execution_count": 14,
   "metadata": {},
   "outputs": [],
   "source": [
    "#group by for age demographics\n",
    "#group by defined values from age column, include Price\n",
    "#Early, PreTeen, Teen, Adult"
   ]
  },
  {
   "cell_type": "code",
   "execution_count": 15,
   "metadata": {},
   "outputs": [],
   "source": [
    "#top 5 spenders IN A TABLE\n",
    "#groupby SN, new column 'Number of Purchases' (count or len fxn). Avg purchase per user (Total/Number). Total Purchase $\n"
   ]
  },
  {
   "cell_type": "code",
   "execution_count": 16,
   "metadata": {},
   "outputs": [],
   "source": [
    "#Popular items"
   ]
  },
  {
   "cell_type": "code",
   "execution_count": 17,
   "metadata": {},
   "outputs": [],
   "source": [
    "#profitable items"
   ]
  },
  {
   "cell_type": "code",
   "execution_count": 18,
   "metadata": {
    "tags": []
   },
   "outputs": [
    {
     "name": "stdout",
     "output_type": "stream",
     "text": [
      "Player Count: 576\n",
      "\n"
     ]
    }
   ],
   "source": [
    "#Player Count\n",
    "print(f\"Player Count: {sn_count}\"\"\\n\")"
   ]
  },
  {
   "cell_type": "code",
   "execution_count": 32,
   "metadata": {
    "tags": []
   },
   "outputs": [
    {
     "name": "stdout",
     "output_type": "stream",
     "text": [
      "Purchasing Analysis (Total)\n",
      "\n",
      "Number of Unique Items: 179\n",
      "\n",
      "Average Purchase Price: $3.05\n",
      "\n",
      "Total Number of Purchases: 780\n",
      "\n",
      "Total Revenue: $2379.77\n",
      "\n"
     ]
    }
   ],
   "source": [
    "#Purchaseing Analysis (Total)\n",
    "print(\"Purchasing Analysis (Total)\" \"\\n\")\n",
    "print(f\"Number of Unique Items: {item_count}\"\"\\n\")\n",
    "print(f\"Average Purchase Price: ${avg_price:.2f}\"\"\\n\")\n",
    "print(f\"Total Number of Purchases: {transactions}\"\"\\n\")\n",
    "print(f\"Total Revenue: ${total_rev}\"\"\\n\")\n"
   ]
  },
  {
   "cell_type": "code",
   "execution_count": 58,
   "metadata": {
    "tags": []
   },
   "outputs": [
    {
     "name": "stdout",
     "output_type": "stream",
     "text": [
      "Gender Demographics\n",
      "\n",
      "Male Players: 84.03% (484)\n",
      "\n",
      "Female Players: 14.06% (81)\n",
      "\n",
      "Other / Non-Disclosed Players: 1.91% (11)\n",
      "\n"
     ]
    }
   ],
   "source": [
    "#Gender Demographics\n",
    "print(\"Gender Demographics\"\"\\n\")\n",
    "print(f\"Male Players: {male:.2%} ({male_count})\"\"\\n\")\n",
    "print(f\"Female Players: {female:.2%} ({female_count})\"\"\\n\")\n",
    "print(f\"Other / Non-Disclosed Players: {other:.2%} ({other_count})\"\"\\n\")"
   ]
  },
  {
   "cell_type": "code",
   "execution_count": 57,
   "metadata": {},
   "outputs": [
    {
     "name": "stdout",
     "output_type": "stream",
     "text": [
      "Purchasing Analysis (Gender)\n",
      "\n",
      "Purchase Count: (652) Males; (113) Females; (15) Other / Non-Disclosed\n",
      "\n",
      "Average Purchase Price: $(3.02) Males; $(3.20) Females; $(3.35) Other / Non-Disclosed\n",
      "\n",
      "Total Purchase Value: $(1967.64) Males; $(361.94) Females; $(50.19) Other / Non-Disclosed\n",
      "\n",
      "Average Purchase Per Unique Player: $(4.32) Males; $(3.54) Females; $(3.94) Other / Non-Disclosed\n",
      "\n"
     ]
    }
   ],
   "source": [
    "#Purchasing analysis (Gender)\n",
    "print(\"Purchasing Analysis (Gender)\"\"\\n\")\n",
    "print(f\"Purchase Count: ({male_purchase}) Males; ({female_purchase}) Females; ({other_purchase}) Other / Non-Disclosed\"\"\\n\")\n",
    "print(f\"Average Purchase Price: $({male_avg_price:.2f}) Males; $({female_avg_price:.2f}) Females; $({other_avg_price:.2f}) Other / Non-Disclosed\"\"\\n\")\n",
    "print(f\"Total Purchase Value: $({male_total_rev}) Males; $({female_total_rev}) Females; $({other_total_rev}) Other / Non-Disclosed\"\"\\n\")\n",
    "print(f\"Average Purchase Per Unique Player: $({male_avg_per:.2f}) Males; $({female_avg_per:.2f}) Females; $({other_avg_per:.2f}) Other / Non-Disclosed\"\"\\n\")"
   ]
  },
  {
   "cell_type": "code",
   "execution_count": null,
   "metadata": {},
   "outputs": [],
   "source": []
  }
 ],
 "metadata": {
  "kernelspec": {
   "display_name": "Python 3",
   "language": "python",
   "name": "python3"
  },
  "language_info": {
   "codemirror_mode": {
    "name": "ipython",
    "version": 3
   },
   "file_extension": ".py",
   "mimetype": "text/x-python",
   "name": "python",
   "nbconvert_exporter": "python",
   "pygments_lexer": "ipython3",
   "version": "3.7.6"
  }
 },
 "nbformat": 4,
 "nbformat_minor": 4
}
