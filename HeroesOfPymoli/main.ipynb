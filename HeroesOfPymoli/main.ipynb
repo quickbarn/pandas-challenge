{
 "cells": [
  {
   "cell_type": "code",
   "execution_count": 16,
   "metadata": {},
   "outputs": [],
   "source": [
    "#Dependencies\n",
    "import pandas as pd"
   ]
  },
  {
   "cell_type": "code",
   "execution_count": 17,
   "metadata": {},
   "outputs": [],
   "source": [
    "#filename and location of csv\n",
    "csvfile = ('Resources/purchase_data.csv')"
   ]
  },
  {
   "cell_type": "code",
   "execution_count": 18,
   "metadata": {},
   "outputs": [],
   "source": [
    "#csv to df\n",
    "df = pd.read_csv(csvfile)"
   ]
  },
  {
   "cell_type": "code",
   "execution_count": 19,
   "metadata": {},
   "outputs": [
    {
     "output_type": "execute_result",
     "data": {
      "text/plain": "   Purchase ID             SN  Age Gender  Item ID  \\\n0            0        Lisim78   20   Male      108   \n1            1    Lisovynya38   40   Male      143   \n2            2     Ithergue48   24   Male       92   \n3            3  Chamassasya86   24   Male      100   \n4            4      Iskosia90   23   Male      131   \n\n                                   Item Name  Price  \n0  Extraction, Quickblade Of Trembling Hands   3.53  \n1                          Frenzied Scimitar   1.56  \n2                               Final Critic   4.88  \n3                                Blindscythe   3.27  \n4                                       Fury   1.44  ",
      "text/html": "<div>\n<style scoped>\n    .dataframe tbody tr th:only-of-type {\n        vertical-align: middle;\n    }\n\n    .dataframe tbody tr th {\n        vertical-align: top;\n    }\n\n    .dataframe thead th {\n        text-align: right;\n    }\n</style>\n<table border=\"1\" class=\"dataframe\">\n  <thead>\n    <tr style=\"text-align: right;\">\n      <th></th>\n      <th>Purchase ID</th>\n      <th>SN</th>\n      <th>Age</th>\n      <th>Gender</th>\n      <th>Item ID</th>\n      <th>Item Name</th>\n      <th>Price</th>\n    </tr>\n  </thead>\n  <tbody>\n    <tr>\n      <th>0</th>\n      <td>0</td>\n      <td>Lisim78</td>\n      <td>20</td>\n      <td>Male</td>\n      <td>108</td>\n      <td>Extraction, Quickblade Of Trembling Hands</td>\n      <td>3.53</td>\n    </tr>\n    <tr>\n      <th>1</th>\n      <td>1</td>\n      <td>Lisovynya38</td>\n      <td>40</td>\n      <td>Male</td>\n      <td>143</td>\n      <td>Frenzied Scimitar</td>\n      <td>1.56</td>\n    </tr>\n    <tr>\n      <th>2</th>\n      <td>2</td>\n      <td>Ithergue48</td>\n      <td>24</td>\n      <td>Male</td>\n      <td>92</td>\n      <td>Final Critic</td>\n      <td>4.88</td>\n    </tr>\n    <tr>\n      <th>3</th>\n      <td>3</td>\n      <td>Chamassasya86</td>\n      <td>24</td>\n      <td>Male</td>\n      <td>100</td>\n      <td>Blindscythe</td>\n      <td>3.27</td>\n    </tr>\n    <tr>\n      <th>4</th>\n      <td>4</td>\n      <td>Iskosia90</td>\n      <td>23</td>\n      <td>Male</td>\n      <td>131</td>\n      <td>Fury</td>\n      <td>1.44</td>\n    </tr>\n  </tbody>\n</table>\n</div>"
     },
     "metadata": {},
     "execution_count": 19
    }
   ],
   "source": [
    "#checkpoint\n",
    "df.head()"
   ]
  },
  {
   "cell_type": "code",
   "execution_count": 23,
   "metadata": {},
   "outputs": [
    {
     "output_type": "execute_result",
     "data": {
      "text/plain": "576"
     },
     "metadata": {},
     "execution_count": 23
    }
   ],
   "source": [
    "#number of unique users\n",
    "sn_count = df[\"SN\"].nunique()\n",
    "sn_count"
   ]
  },
  {
   "cell_type": "code",
   "execution_count": 24,
   "metadata": {},
   "outputs": [
    {
     "output_type": "execute_result",
     "data": {
      "text/plain": "179"
     },
     "metadata": {},
     "execution_count": 24
    }
   ],
   "source": [
    "#number of unique items\n",
    "item_count = df[\"Item ID\"].nunique()\n",
    "item_count"
   ]
  },
  {
   "cell_type": "code",
   "execution_count": 29,
   "metadata": {},
   "outputs": [
    {
     "output_type": "execute_result",
     "data": {
      "text/plain": "3.050987179487176"
     },
     "metadata": {},
     "execution_count": 29
    }
   ],
   "source": [
    "#average price\n",
    "avg_price = df[\"Price\"].mean()\n",
    "avg_price"
   ]
  },
  {
   "cell_type": "code",
   "execution_count": 32,
   "metadata": {},
   "outputs": [
    {
     "output_type": "execute_result",
     "data": {
      "text/plain": "780"
     },
     "metadata": {},
     "execution_count": 32
    }
   ],
   "source": [
    "#total transactions\n",
    "transactions = len(df['Purchase ID'])\n",
    "transactions"
   ]
  },
  {
   "cell_type": "code",
   "execution_count": 33,
   "metadata": {},
   "outputs": [
    {
     "output_type": "execute_result",
     "data": {
      "text/plain": "2379.77"
     },
     "metadata": {},
     "execution_count": 33
    }
   ],
   "source": [
    "#revenue\n",
    "total_rev = df[\"Price\"].sum()\n",
    "total_rev"
   ]
  },
  {
   "cell_type": "code",
   "execution_count": 51,
   "metadata": {},
   "outputs": [
    {
     "output_type": "execute_result",
     "data": {
      "text/plain": "array(['Male', 'Other / Non-Disclosed', 'Female'], dtype=object)"
     },
     "metadata": {},
     "execution_count": 51
    }
   ],
   "source": [
    "#list types of genders\n",
    "gender_types = df[\"Gender\"].unique()\n",
    "gender_types"
   ]
  },
  {
   "cell_type": "code",
   "execution_count": 46,
   "metadata": {},
   "outputs": [
    {
     "output_type": "execute_result",
     "data": {
      "text/plain": "0.8402777777777778"
     },
     "metadata": {},
     "execution_count": 46
    }
   ],
   "source": [
    "#male players dataframe\n",
    "male_df = df.loc[df[\"Gender\"]==\"Male\"]\n",
    "male_df\n",
    "#unique male player count\n",
    "male_count = male_df[\"SN\"].nunique()\n",
    "male_count\n",
    "#percentage\n",
    "male = male_count/sn_count\n",
    "male"
   ]
  },
  {
   "cell_type": "code",
   "execution_count": 47,
   "metadata": {},
   "outputs": [
    {
     "output_type": "execute_result",
     "data": {
      "text/plain": "0.140625"
     },
     "metadata": {},
     "execution_count": 47
    }
   ],
   "source": [
    "#female players dataframe\n",
    "female_df = df.loc[df[\"Gender\"]==\"Female\"]\n",
    "female_df\n",
    "#unique female player count\n",
    "female_count = female_df[\"SN\"].nunique()\n",
    "female_count\n",
    "#percentage\n",
    "female = female_count/sn_count\n",
    "female"
   ]
  },
  {
   "cell_type": "code",
   "execution_count": 52,
   "metadata": {},
   "outputs": [
    {
     "output_type": "execute_result",
     "data": {
      "text/plain": "0.019097222222222224"
     },
     "metadata": {},
     "execution_count": 52
    }
   ],
   "source": [
    "#other players dataframe\n",
    "other_df = df.loc[df[\"Gender\"]==\"Other / Non-Disclosed\"]\n",
    "other_df\n",
    "#unique other player count\n",
    "other_count = other_df[\"SN\"].nunique()\n",
    "other_count\n",
    "#percentage\n",
    "other = other_count/sn_count\n",
    "other"
   ]
  },
  {
   "cell_type": "code",
   "execution_count": null,
   "metadata": {},
   "outputs": [],
   "source": [
    "#group by for age demographics"
   ]
  },
  {
   "cell_type": "code",
   "execution_count": null,
   "metadata": {},
   "outputs": [],
   "source": [
    "#top spenders"
   ]
  },
  {
   "cell_type": "code",
   "execution_count": null,
   "metadata": {},
   "outputs": [],
   "source": [
    "#Popular items"
   ]
  },
  {
   "cell_type": "code",
   "execution_count": null,
   "metadata": {},
   "outputs": [],
   "source": [
    "#profitable items"
   ]
  },
  {
   "cell_type": "code",
   "execution_count": 56,
   "metadata": {
    "tags": []
   },
   "outputs": [
    {
     "output_type": "stream",
     "name": "stdout",
     "text": "Player Count: 576\n\n"
    }
   ],
   "source": [
    "#Player Count\n",
    "print(f\"Player Count: {sn_count}\"\"\\n\")"
   ]
  },
  {
   "cell_type": "code",
   "execution_count": 55,
   "metadata": {
    "tags": []
   },
   "outputs": [
    {
     "output_type": "stream",
     "name": "stdout",
     "text": "Purchasing Analysis (Total)\n\nNumber of Unique Items: 179\n\nAverage Purchase Price: $3.05\n\nTotal Number of Purchases: 780\n\nTotal Revenue: $2379.77\n\n"
    }
   ],
   "source": [
    "#Purchaseing Analysis (Total)\n",
    "print(\"Purchasing Analysis (Total)\" \"\\n\")\n",
    "print(f\"Number of Unique Items: {item_count}\"\"\\n\")\n",
    "print(f\"Average Purchase Price: ${avg_price:.3}\"\"\\n\")\n",
    "print(f\"Total Number of Purchases: {transactions}\"\"\\n\")\n",
    "print(f\"Total Revenue: ${total_rev}\"\"\\n\")\n"
   ]
  },
  {
   "cell_type": "code",
   "execution_count": 54,
   "metadata": {
    "tags": []
   },
   "outputs": [
    {
     "output_type": "stream",
     "name": "stdout",
     "text": "Gender Demographics\nMale Players: 84.03% (484)\nFemale Players: 14.06% (81)\nOther / Non-Disclosed Players: 1.91% (11)\n"
    }
   ],
   "source": [
    "#Gender Demographics\n",
    "print(\"Gender Demographics\")\n",
    "print(f\"Male Players: {male:.2%} ({male_count})\")\n",
    "print(f\"Female Players: {female:.2%} ({female_count})\")\n",
    "print(f\"Other / Non-Disclosed Players: {other:.2%} ({other_count})\")"
   ]
  },
  {
   "cell_type": "code",
   "execution_count": null,
   "metadata": {},
   "outputs": [],
   "source": []
  }
 ],
 "metadata": {
  "kernelspec": {
   "display_name": "Python 3",
   "language": "python",
   "name": "python3"
  },
  "language_info": {
   "codemirror_mode": {
    "name": "ipython",
    "version": 3
   },
   "file_extension": ".py",
   "mimetype": "text/x-python",
   "name": "python",
   "nbconvert_exporter": "python",
   "pygments_lexer": "ipython3",
   "version": "3.7.6"
  }
 },
 "nbformat": 4,
 "nbformat_minor": 4
}